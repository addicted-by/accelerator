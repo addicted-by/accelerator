{
 "cells": [
  {
   "cell_type": "code",
   "execution_count": 13,
   "metadata": {},
   "outputs": [],
   "source": [
    "from accelerator.tools.analysis.stats.collector import _WelfordCollector, VarianceTensorCollector"
   ]
  },
  {
   "cell_type": "code",
   "execution_count": 14,
   "metadata": {},
   "outputs": [],
   "source": [
    "coll = _WelfordCollector(channel_dim=1, order=4)\n",
    "var_coll = VarianceTensorCollector(channel_dim=1)"
   ]
  },
  {
   "cell_type": "code",
   "execution_count": 15,
   "metadata": {},
   "outputs": [],
   "source": [
    "import torch\n",
    "\n",
    "first_batch = torch.randn(8, 32, 224, 224)\n",
    "second_batch = torch.randn(8, 32, 224, 224)"
   ]
  },
  {
   "cell_type": "code",
   "execution_count": null,
   "metadata": {},
   "outputs": [],
   "source": []
  },
  {
   "cell_type": "code",
   "execution_count": 16,
   "metadata": {},
   "outputs": [],
   "source": [
    "coll.update(first_batch)"
   ]
  },
  {
   "cell_type": "code",
   "execution_count": 17,
   "metadata": {},
   "outputs": [
    {
     "data": {
      "text/plain": [
       "401408"
      ]
     },
     "execution_count": 17,
     "metadata": {},
     "output_type": "execute_result"
    }
   ],
   "source": [
    "coll._count"
   ]
  },
  {
   "cell_type": "code",
   "execution_count": 18,
   "metadata": {},
   "outputs": [
    {
     "data": {
      "text/plain": [
       "tensor([ 1.3397e-03,  2.9147e-04,  1.5996e-03,  3.8118e-04, -1.9746e-03,\n",
       "         1.2940e-03, -3.3377e-04,  8.9642e-04,  8.7047e-04,  2.0782e-03,\n",
       "        -2.6188e-04, -4.6257e-05, -2.4792e-05,  5.2362e-04, -6.8147e-04,\n",
       "        -2.5562e-04, -5.5507e-04, -5.0091e-04,  1.6610e-03, -3.1882e-03,\n",
       "        -1.9047e-03, -2.4072e-03,  2.4513e-03, -5.8952e-04, -4.4380e-07,\n",
       "         5.8583e-04, -1.9041e-03, -1.5165e-03,  3.8007e-03,  2.0177e-03,\n",
       "        -9.4402e-04, -1.2917e-03])"
      ]
     },
     "execution_count": 18,
     "metadata": {},
     "output_type": "execute_result"
    }
   ],
   "source": [
    "first_batch.mean(dim=(0,2,3))"
   ]
  },
  {
   "cell_type": "code",
   "execution_count": 19,
   "metadata": {},
   "outputs": [
    {
     "data": {
      "text/plain": [
       "tensor([ 1.3397e-03,  2.9147e-04,  1.5996e-03,  3.8118e-04, -1.9746e-03,\n",
       "         1.2940e-03, -3.3377e-04,  8.9642e-04,  8.7047e-04,  2.0782e-03,\n",
       "        -2.6188e-04, -4.6257e-05, -2.4792e-05,  5.2362e-04, -6.8147e-04,\n",
       "        -2.5562e-04, -5.5507e-04, -5.0091e-04,  1.6610e-03, -3.1882e-03,\n",
       "        -1.9047e-03, -2.4072e-03,  2.4513e-03, -5.8952e-04, -4.4354e-07,\n",
       "         5.8583e-04, -1.9041e-03, -1.5165e-03,  3.8007e-03,  2.0177e-03,\n",
       "        -9.4402e-04, -1.2917e-03])"
      ]
     },
     "execution_count": 19,
     "metadata": {},
     "output_type": "execute_result"
    }
   ],
   "source": [
    "coll._mean"
   ]
  },
  {
   "cell_type": "code",
   "execution_count": 20,
   "metadata": {},
   "outputs": [
    {
     "data": {
      "text/plain": [
       "tensor([0.9977, 0.9968, 1.0046, 0.9986, 1.0032, 0.9984, 1.0025, 0.9983, 1.0021,\n",
       "        1.0037, 0.9997, 0.9990, 0.9993, 1.0022, 0.9979, 0.9990, 0.9990, 1.0006,\n",
       "        0.9996, 0.9992, 1.0026, 1.0046, 1.0028, 1.0034, 0.9987, 1.0015, 0.9987,\n",
       "        0.9988, 0.9924, 1.0018, 0.9997, 0.9993])"
      ]
     },
     "execution_count": 20,
     "metadata": {},
     "output_type": "execute_result"
    }
   ],
   "source": [
    "first_batch.var(dim=(0,2,3))\n"
   ]
  },
  {
   "cell_type": "code",
   "execution_count": 25,
   "metadata": {},
   "outputs": [
    {
     "data": {
      "text/plain": [
       "tensor([0.9977, 0.9968, 1.0046, 0.9986, 1.0032, 0.9984, 1.0025, 0.9983, 1.0021,\n",
       "        1.0037, 0.9997, 0.9990, 0.9993, 1.0022, 0.9979, 0.9990, 0.9990, 1.0006,\n",
       "        0.9996, 0.9992, 1.0026, 1.0046, 1.0028, 1.0034, 0.9987, 1.0015, 0.9987,\n",
       "        0.9988, 0.9924, 1.0018, 0.9997, 0.9993])"
      ]
     },
     "execution_count": 25,
     "metadata": {},
     "output_type": "execute_result"
    }
   ],
   "source": [
    "coll._M2 / (coll._count - 1)"
   ]
  },
  {
   "cell_type": "code",
   "execution_count": 8,
   "metadata": {},
   "outputs": [
    {
     "data": {
      "text/plain": [
       "tensor([-2.0058e-03, -9.2894e-04, -2.7336e-03, -8.9105e-04,  4.1119e-04,\n",
       "        -1.7545e-03, -7.0191e-05,  6.7377e-04, -2.5701e-04, -9.6031e-04,\n",
       "        -1.6755e-03,  1.7869e-03, -2.6794e-04, -2.7576e-04, -7.5157e-04,\n",
       "        -1.3311e-03,  1.3220e-03,  1.3928e-03,  1.0250e-03, -8.7519e-05,\n",
       "         9.2005e-04,  1.4221e-03, -5.5949e-04,  4.5093e-03,  2.8277e-03,\n",
       "         5.5922e-04,  9.6920e-04,  1.1156e-03,  5.7885e-04, -1.2281e-03,\n",
       "         1.9176e-03,  7.6941e-04])"
      ]
     },
     "execution_count": 8,
     "metadata": {},
     "output_type": "execute_result"
    }
   ],
   "source": [
    "second_batch.mean(dim=(0,2,3))"
   ]
  },
  {
   "cell_type": "code",
   "execution_count": 26,
   "metadata": {},
   "outputs": [],
   "source": [
    "coll.update(second_batch)"
   ]
  },
  {
   "cell_type": "code",
   "execution_count": 27,
   "metadata": {},
   "outputs": [
    {
     "data": {
      "text/plain": [
       "tensor([803121.3750, 802447.6250, 804883.2500, 802054.6875, 804529.1250,\n",
       "        802982.2500, 803137.7500, 801181.8125, 804105.8750, 805064.1250,\n",
       "        803243.3750, 802946.3750, 803180.8750, 803812.6875, 801908.5000,\n",
       "        801036.2500, 802286.3125, 802766.0625, 801865.6875, 801857.2500,\n",
       "        803879.3125, 804241.2500, 803300.0000, 805696.5000, 803133.8750,\n",
       "        804931.0625, 801551.0625, 803432.8750, 799153.5000, 803876.3750,\n",
       "        802738.1875, 803466.6250])"
      ]
     },
     "execution_count": 27,
     "metadata": {},
     "output_type": "execute_result"
    }
   ],
   "source": [
    "coll._M2"
   ]
  },
  {
   "cell_type": "code",
   "execution_count": 30,
   "metadata": {},
   "outputs": [
    {
     "data": {
      "text/plain": [
       "tensor([1.0004, 0.9995, 1.0026, 0.9991, 1.0021, 1.0002, 1.0004, 0.9980, 1.0016,\n",
       "        1.0028, 1.0005, 1.0002, 1.0005, 1.0012, 0.9989, 0.9978, 0.9993, 0.9999,\n",
       "        0.9988, 0.9988, 1.0013, 1.0018, 1.0006, 1.0036, 1.0004, 1.0026, 0.9984,\n",
       "        1.0008, 0.9954, 1.0013, 0.9999, 1.0008])"
      ]
     },
     "execution_count": 30,
     "metadata": {},
     "output_type": "execute_result"
    }
   ],
   "source": [
    "(first_batch.var(dim=(0,2,3)) + second_batch.var(dim=(0,2,3))) / 2"
   ]
  },
  {
   "cell_type": "code",
   "execution_count": 28,
   "metadata": {},
   "outputs": [
    {
     "data": {
      "text/plain": [
       "tensor([1.0004, 0.9995, 1.0026, 0.9991, 1.0021, 1.0002, 1.0004, 0.9980, 1.0016,\n",
       "        1.0028, 1.0005, 1.0002, 1.0005, 1.0012, 0.9989, 0.9978, 0.9993, 0.9999,\n",
       "        0.9988, 0.9988, 1.0013, 1.0018, 1.0006, 1.0036, 1.0004, 1.0026, 0.9984,\n",
       "        1.0008, 0.9954, 1.0013, 0.9999, 1.0008])"
      ]
     },
     "execution_count": 28,
     "metadata": {},
     "output_type": "execute_result"
    }
   ],
   "source": [
    "coll._M2 / (coll._count - 1)"
   ]
  }
 ],
 "metadata": {
  "kernelspec": {
   "display_name": "Python 3",
   "language": "python",
   "name": "python3"
  },
  "language_info": {
   "codemirror_mode": {
    "name": "ipython",
    "version": 3
   },
   "file_extension": ".py",
   "mimetype": "text/x-python",
   "name": "python",
   "nbconvert_exporter": "python",
   "pygments_lexer": "ipython3",
   "version": "3.10.8"
  }
 },
 "nbformat": 4,
 "nbformat_minor": 2
}
